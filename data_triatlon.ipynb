{
 "metadata": {
  "language_info": {
   "codemirror_mode": {
    "name": "ipython",
    "version": 3
   },
   "file_extension": ".py",
   "mimetype": "text/x-python",
   "name": "python",
   "nbconvert_exporter": "python",
   "pygments_lexer": "ipython3",
   "version": "3.9.2-final"
  },
  "orig_nbformat": 2,
  "kernelspec": {
   "name": "python3",
   "display_name": "Python 3.9.2 64-bit ('data_tri': conda)",
   "metadata": {
    "interpreter": {
     "hash": "2a389a288de05720b0b556f54103983355f994885f76d1fc8ae09d28a7a56e46"
    }
   }
  }
 },
 "nbformat": 4,
 "nbformat_minor": 2,
 "cells": [
  {
   "cell_type": "code",
   "execution_count": 1,
   "metadata": {},
   "outputs": [],
   "source": [
    "import pandas as pd\n",
    "import numpy as np\n",
    "import matplotlib.pyplot as plt\n",
    "pd.options.display.float_format = '{:,.3f}'.format\n",
    "%matplotlib inline"
   ]
  },
  {
   "cell_type": "code",
   "execution_count": 12,
   "metadata": {},
   "outputs": [
    {
     "output_type": "stream",
     "name": "stdout",
     "text": [
      "d:\\Documents\\db\\data_triatlon\n",
      "colombia_exports.csv\n",
      "colombia_imports.csv\n",
      "country_names.csv\n",
      "groups_sitc_rev2.csv\n",
      "products_sitc_rev2.csv\n"
     ]
    }
   ],
   "source": [
    "%cd d:\\Documents\\db\\data_triatlon\n",
    "!ls"
   ]
  },
  {
   "cell_type": "code",
   "execution_count": 13,
   "metadata": {},
   "outputs": [
    {
     "output_type": "execute_result",
     "data": {
      "text/plain": [
       "        year origin pais  sitc     export_val\n",
       "0       1962    col  civ  1210     12,000.000\n",
       "1       1962    col  dza  1210    112,000.000\n",
       "2       1962    col  egy  2472      6,000.000\n",
       "3       1962    col  mar  1210    164,000.000\n",
       "4       1962    col  mar   711      5,000.000\n",
       "...      ...    ...  ...   ...            ...\n",
       "389591  2017    col  ury  6635     26,526.500\n",
       "389592  2017    col  ury  8924      4,285.500\n",
       "389593  2017    col  ury  8928     25,667.500\n",
       "389594  2017    col  ury  8972      5,306.000\n",
       "389595  2017    col  ury  9310 10,063,053.000\n",
       "\n",
       "[389596 rows x 5 columns]"
      ],
      "text/html": "<div>\n<style scoped>\n    .dataframe tbody tr th:only-of-type {\n        vertical-align: middle;\n    }\n\n    .dataframe tbody tr th {\n        vertical-align: top;\n    }\n\n    .dataframe thead th {\n        text-align: right;\n    }\n</style>\n<table border=\"1\" class=\"dataframe\">\n  <thead>\n    <tr style=\"text-align: right;\">\n      <th></th>\n      <th>year</th>\n      <th>origin</th>\n      <th>pais</th>\n      <th>sitc</th>\n      <th>export_val</th>\n    </tr>\n  </thead>\n  <tbody>\n    <tr>\n      <th>0</th>\n      <td>1962</td>\n      <td>col</td>\n      <td>civ</td>\n      <td>1210</td>\n      <td>12,000.000</td>\n    </tr>\n    <tr>\n      <th>1</th>\n      <td>1962</td>\n      <td>col</td>\n      <td>dza</td>\n      <td>1210</td>\n      <td>112,000.000</td>\n    </tr>\n    <tr>\n      <th>2</th>\n      <td>1962</td>\n      <td>col</td>\n      <td>egy</td>\n      <td>2472</td>\n      <td>6,000.000</td>\n    </tr>\n    <tr>\n      <th>3</th>\n      <td>1962</td>\n      <td>col</td>\n      <td>mar</td>\n      <td>1210</td>\n      <td>164,000.000</td>\n    </tr>\n    <tr>\n      <th>4</th>\n      <td>1962</td>\n      <td>col</td>\n      <td>mar</td>\n      <td>711</td>\n      <td>5,000.000</td>\n    </tr>\n    <tr>\n      <th>...</th>\n      <td>...</td>\n      <td>...</td>\n      <td>...</td>\n      <td>...</td>\n      <td>...</td>\n    </tr>\n    <tr>\n      <th>389591</th>\n      <td>2017</td>\n      <td>col</td>\n      <td>ury</td>\n      <td>6635</td>\n      <td>26,526.500</td>\n    </tr>\n    <tr>\n      <th>389592</th>\n      <td>2017</td>\n      <td>col</td>\n      <td>ury</td>\n      <td>8924</td>\n      <td>4,285.500</td>\n    </tr>\n    <tr>\n      <th>389593</th>\n      <td>2017</td>\n      <td>col</td>\n      <td>ury</td>\n      <td>8928</td>\n      <td>25,667.500</td>\n    </tr>\n    <tr>\n      <th>389594</th>\n      <td>2017</td>\n      <td>col</td>\n      <td>ury</td>\n      <td>8972</td>\n      <td>5,306.000</td>\n    </tr>\n    <tr>\n      <th>389595</th>\n      <td>2017</td>\n      <td>col</td>\n      <td>ury</td>\n      <td>9310</td>\n      <td>10,063,053.000</td>\n    </tr>\n  </tbody>\n</table>\n<p>389596 rows × 5 columns</p>\n</div>"
     },
     "metadata": {},
     "execution_count": 13
    }
   ],
   "source": [
    "df_exports=pd.read_csv('colombia_exports.csv', sep='|')\n",
    "df_exports.drop(['Unnamed: 0'], axis=1, inplace=True)\n",
    "df_exports.drop(['Unnamed: 0.1'], axis=1, inplace=True)\n",
    "df_exports.isna().any()\n",
    "df_exports.rename(columns={'sitc4':'sitc'}, inplace=True)\n",
    "df_exports.rename(columns={'dest':'pais'}, inplace=True)\n",
    "df_exports"
   ]
  },
  {
   "cell_type": "code",
   "execution_count": 14,
   "metadata": {},
   "outputs": [
    {
     "output_type": "execute_result",
     "data": {
      "text/plain": [
       "         id  sitc                                               name\n",
       "0    105722  5722                                 Initiating Devices\n",
       "1    105838  5838                      Polymerization Ion Exchangers\n",
       "2    106250  6250  Rubber tires, tire cases, inner and flaps, for...\n",
       "3    106251  6251                                          Car Tires\n",
       "4    106280  6280                           Other articles of rubber\n",
       "..      ...   ...                                                ...\n",
       "983  909310  9310                          Unclassified Transactions\n",
       "984  909410  9410                         Miscellaneous Live Animals\n",
       "985  909610  9610                                      Non-Gold Coin\n",
       "986  xx0010    10                      Live animals chiefly for food\n",
       "987  xx0110   110                                               Meat\n",
       "\n",
       "[988 rows x 3 columns]"
      ],
      "text/html": "<div>\n<style scoped>\n    .dataframe tbody tr th:only-of-type {\n        vertical-align: middle;\n    }\n\n    .dataframe tbody tr th {\n        vertical-align: top;\n    }\n\n    .dataframe thead th {\n        text-align: right;\n    }\n</style>\n<table border=\"1\" class=\"dataframe\">\n  <thead>\n    <tr style=\"text-align: right;\">\n      <th></th>\n      <th>id</th>\n      <th>sitc</th>\n      <th>name</th>\n    </tr>\n  </thead>\n  <tbody>\n    <tr>\n      <th>0</th>\n      <td>105722</td>\n      <td>5722</td>\n      <td>Initiating Devices</td>\n    </tr>\n    <tr>\n      <th>1</th>\n      <td>105838</td>\n      <td>5838</td>\n      <td>Polymerization Ion Exchangers</td>\n    </tr>\n    <tr>\n      <th>2</th>\n      <td>106250</td>\n      <td>6250</td>\n      <td>Rubber tires, tire cases, inner and flaps, for...</td>\n    </tr>\n    <tr>\n      <th>3</th>\n      <td>106251</td>\n      <td>6251</td>\n      <td>Car Tires</td>\n    </tr>\n    <tr>\n      <th>4</th>\n      <td>106280</td>\n      <td>6280</td>\n      <td>Other articles of rubber</td>\n    </tr>\n    <tr>\n      <th>...</th>\n      <td>...</td>\n      <td>...</td>\n      <td>...</td>\n    </tr>\n    <tr>\n      <th>983</th>\n      <td>909310</td>\n      <td>9310</td>\n      <td>Unclassified Transactions</td>\n    </tr>\n    <tr>\n      <th>984</th>\n      <td>909410</td>\n      <td>9410</td>\n      <td>Miscellaneous Live Animals</td>\n    </tr>\n    <tr>\n      <th>985</th>\n      <td>909610</td>\n      <td>9610</td>\n      <td>Non-Gold Coin</td>\n    </tr>\n    <tr>\n      <th>986</th>\n      <td>xx0010</td>\n      <td>10</td>\n      <td>Live animals chiefly for food</td>\n    </tr>\n    <tr>\n      <th>987</th>\n      <td>xx0110</td>\n      <td>110</td>\n      <td>Meat</td>\n    </tr>\n  </tbody>\n</table>\n<p>988 rows × 3 columns</p>\n</div>"
     },
     "metadata": {},
     "execution_count": 14
    }
   ],
   "source": [
    "df_sitc_prod=pd.read_csv('products_sitc_rev2.csv', sep='|')\n",
    "df_sitc_prod.drop(['Unnamed: 0'], axis=1, inplace=True)\n",
    "df_sitc_prod.isna().any()\n",
    "df_sitc_prod"
   ]
  },
  {
   "cell_type": "code",
   "execution_count": 15,
   "metadata": {},
   "outputs": [
    {
     "output_type": "execute_result",
     "data": {
      "text/plain": [
       "    id                                           category\n",
       "0    0     Live animals other than animals of division 03\n",
       "1    1                         Meat and meat preparations\n",
       "2    2                     Dairy products and birds' eggs\n",
       "3    3  Fish, crustaceans, molluscs and preparations t...\n",
       "4    4                    Cereals and cereal preparations\n",
       "..  ..                                                ...\n",
       "60  87    Professional and scientific instruments, n.e.s.\n",
       "61  88  Photo apparatus, optical goods, watches and cl...\n",
       "62  89        Miscellaneous manufactured articles, n.e.s.\n",
       "63  96  Coin (other than gold coin), not being legal t...\n",
       "64  97  Gold, non-monetary (excluding gold ores and co...\n",
       "\n",
       "[65 rows x 2 columns]"
      ],
      "text/html": "<div>\n<style scoped>\n    .dataframe tbody tr th:only-of-type {\n        vertical-align: middle;\n    }\n\n    .dataframe tbody tr th {\n        vertical-align: top;\n    }\n\n    .dataframe thead th {\n        text-align: right;\n    }\n</style>\n<table border=\"1\" class=\"dataframe\">\n  <thead>\n    <tr style=\"text-align: right;\">\n      <th></th>\n      <th>id</th>\n      <th>category</th>\n    </tr>\n  </thead>\n  <tbody>\n    <tr>\n      <th>0</th>\n      <td>0</td>\n      <td>Live animals other than animals of division 03</td>\n    </tr>\n    <tr>\n      <th>1</th>\n      <td>1</td>\n      <td>Meat and meat preparations</td>\n    </tr>\n    <tr>\n      <th>2</th>\n      <td>2</td>\n      <td>Dairy products and birds' eggs</td>\n    </tr>\n    <tr>\n      <th>3</th>\n      <td>3</td>\n      <td>Fish, crustaceans, molluscs and preparations t...</td>\n    </tr>\n    <tr>\n      <th>4</th>\n      <td>4</td>\n      <td>Cereals and cereal preparations</td>\n    </tr>\n    <tr>\n      <th>...</th>\n      <td>...</td>\n      <td>...</td>\n    </tr>\n    <tr>\n      <th>60</th>\n      <td>87</td>\n      <td>Professional and scientific instruments, n.e.s.</td>\n    </tr>\n    <tr>\n      <th>61</th>\n      <td>88</td>\n      <td>Photo apparatus, optical goods, watches and cl...</td>\n    </tr>\n    <tr>\n      <th>62</th>\n      <td>89</td>\n      <td>Miscellaneous manufactured articles, n.e.s.</td>\n    </tr>\n    <tr>\n      <th>63</th>\n      <td>96</td>\n      <td>Coin (other than gold coin), not being legal t...</td>\n    </tr>\n    <tr>\n      <th>64</th>\n      <td>97</td>\n      <td>Gold, non-monetary (excluding gold ores and co...</td>\n    </tr>\n  </tbody>\n</table>\n<p>65 rows × 2 columns</p>\n</div>"
     },
     "metadata": {},
     "execution_count": 15
    }
   ],
   "source": [
    "df_sitc_group=pd.read_csv('groups_sitc_rev2.csv', sep='|')\n",
    "df_sitc_group.drop(['Unnamed: 0'], axis=1, inplace=True)\n",
    "df_sitc_group.isna().any()\n",
    "df_sitc_group"
   ]
  },
  {
   "cell_type": "code",
   "execution_count": 16,
   "metadata": {},
   "outputs": [
    {
     "output_type": "execute_result",
     "data": {
      "text/plain": [
       "        id pais          name\n",
       "0    afago  ago        Angola\n",
       "1    afbdi  bdi       Burundi\n",
       "2    afben  ben         Benin\n",
       "3    afbfa  bfa  Burkina Faso\n",
       "4    afbwa  bwa      Botswana\n",
       "..     ...  ...           ...\n",
       "258  sasur  sur      Suriname\n",
       "259  saury  ury       Uruguay\n",
       "260  saven  ven     Venezuela\n",
       "261  xxwld  wld         World\n",
       "262  xxxxh  xxa         Areas\n",
       "\n",
       "[263 rows x 3 columns]"
      ],
      "text/html": "<div>\n<style scoped>\n    .dataframe tbody tr th:only-of-type {\n        vertical-align: middle;\n    }\n\n    .dataframe tbody tr th {\n        vertical-align: top;\n    }\n\n    .dataframe thead th {\n        text-align: right;\n    }\n</style>\n<table border=\"1\" class=\"dataframe\">\n  <thead>\n    <tr style=\"text-align: right;\">\n      <th></th>\n      <th>id</th>\n      <th>pais</th>\n      <th>name</th>\n    </tr>\n  </thead>\n  <tbody>\n    <tr>\n      <th>0</th>\n      <td>afago</td>\n      <td>ago</td>\n      <td>Angola</td>\n    </tr>\n    <tr>\n      <th>1</th>\n      <td>afbdi</td>\n      <td>bdi</td>\n      <td>Burundi</td>\n    </tr>\n    <tr>\n      <th>2</th>\n      <td>afben</td>\n      <td>ben</td>\n      <td>Benin</td>\n    </tr>\n    <tr>\n      <th>3</th>\n      <td>afbfa</td>\n      <td>bfa</td>\n      <td>Burkina Faso</td>\n    </tr>\n    <tr>\n      <th>4</th>\n      <td>afbwa</td>\n      <td>bwa</td>\n      <td>Botswana</td>\n    </tr>\n    <tr>\n      <th>...</th>\n      <td>...</td>\n      <td>...</td>\n      <td>...</td>\n    </tr>\n    <tr>\n      <th>258</th>\n      <td>sasur</td>\n      <td>sur</td>\n      <td>Suriname</td>\n    </tr>\n    <tr>\n      <th>259</th>\n      <td>saury</td>\n      <td>ury</td>\n      <td>Uruguay</td>\n    </tr>\n    <tr>\n      <th>260</th>\n      <td>saven</td>\n      <td>ven</td>\n      <td>Venezuela</td>\n    </tr>\n    <tr>\n      <th>261</th>\n      <td>xxwld</td>\n      <td>wld</td>\n      <td>World</td>\n    </tr>\n    <tr>\n      <th>262</th>\n      <td>xxxxh</td>\n      <td>xxa</td>\n      <td>Areas</td>\n    </tr>\n  </tbody>\n</table>\n<p>263 rows × 3 columns</p>\n</div>"
     },
     "metadata": {},
     "execution_count": 16
    }
   ],
   "source": [
    "df_country_names=pd.read_csv('country_names.csv', sep='|')\n",
    "df_country_names.drop(['Unnamed: 0'], axis=1, inplace=True)\n",
    "df_country_names.rename(columns={'id_3char':'pais'}, inplace=True)\n",
    "df_country_names.isna().any()\n",
    "df_country_names.drop_duplicates()"
   ]
  },
  {
   "cell_type": "code",
   "execution_count": 17,
   "metadata": {},
   "outputs": [
    {
     "output_type": "execute_result",
     "data": {
      "text/plain": [
       "        year pais  sitc    export_val\n",
       "0       1962  civ   712    13,000.000\n",
       "1       1962  cod  2925     2,000.000\n",
       "2       1962  cog  2925     2,000.000\n",
       "3       1962  egy  2631    40,000.000\n",
       "4       1962  eth  2922     4,000.000\n",
       "...      ...  ...   ...           ...\n",
       "560487  2017  ury  5833       231.500\n",
       "560488  2017  ury  6658     8,658.000\n",
       "560489  2017  ury  8928     3,816.500\n",
       "560490  2017  ury  8972       500.000\n",
       "560491  2017  ury  9310 5,500,539.500\n",
       "\n",
       "[560492 rows x 4 columns]"
      ],
      "text/html": "<div>\n<style scoped>\n    .dataframe tbody tr th:only-of-type {\n        vertical-align: middle;\n    }\n\n    .dataframe tbody tr th {\n        vertical-align: top;\n    }\n\n    .dataframe thead th {\n        text-align: right;\n    }\n</style>\n<table border=\"1\" class=\"dataframe\">\n  <thead>\n    <tr style=\"text-align: right;\">\n      <th></th>\n      <th>year</th>\n      <th>pais</th>\n      <th>sitc</th>\n      <th>export_val</th>\n    </tr>\n  </thead>\n  <tbody>\n    <tr>\n      <th>0</th>\n      <td>1962</td>\n      <td>civ</td>\n      <td>712</td>\n      <td>13,000.000</td>\n    </tr>\n    <tr>\n      <th>1</th>\n      <td>1962</td>\n      <td>cod</td>\n      <td>2925</td>\n      <td>2,000.000</td>\n    </tr>\n    <tr>\n      <th>2</th>\n      <td>1962</td>\n      <td>cog</td>\n      <td>2925</td>\n      <td>2,000.000</td>\n    </tr>\n    <tr>\n      <th>3</th>\n      <td>1962</td>\n      <td>egy</td>\n      <td>2631</td>\n      <td>40,000.000</td>\n    </tr>\n    <tr>\n      <th>4</th>\n      <td>1962</td>\n      <td>eth</td>\n      <td>2922</td>\n      <td>4,000.000</td>\n    </tr>\n    <tr>\n      <th>...</th>\n      <td>...</td>\n      <td>...</td>\n      <td>...</td>\n      <td>...</td>\n    </tr>\n    <tr>\n      <th>560487</th>\n      <td>2017</td>\n      <td>ury</td>\n      <td>5833</td>\n      <td>231.500</td>\n    </tr>\n    <tr>\n      <th>560488</th>\n      <td>2017</td>\n      <td>ury</td>\n      <td>6658</td>\n      <td>8,658.000</td>\n    </tr>\n    <tr>\n      <th>560489</th>\n      <td>2017</td>\n      <td>ury</td>\n      <td>8928</td>\n      <td>3,816.500</td>\n    </tr>\n    <tr>\n      <th>560490</th>\n      <td>2017</td>\n      <td>ury</td>\n      <td>8972</td>\n      <td>500.000</td>\n    </tr>\n    <tr>\n      <th>560491</th>\n      <td>2017</td>\n      <td>ury</td>\n      <td>9310</td>\n      <td>5,500,539.500</td>\n    </tr>\n  </tbody>\n</table>\n<p>560492 rows × 4 columns</p>\n</div>"
     },
     "metadata": {},
     "execution_count": 17
    }
   ],
   "source": [
    "df_imports=pd.read_csv('colombia_imports.csv', '|')\n",
    "df_imports.drop(['Unnamed: 0'], axis=1, inplace=True)\n",
    "df_imports.drop(['Unnamed: 0.1'], axis=1, inplace=True)\n",
    "df_imports.drop(['dest'], axis=1, inplace=True)\n",
    "df_imports.isna().any()\n",
    "df_imports.rename(columns={'sitc4':'sitc'}, inplace=True)\n",
    "df_imports.rename(columns={'origin':'pais'}, inplace=True)\n",
    "df_imports"
   ]
  },
  {
   "cell_type": "code",
   "execution_count": 18,
   "metadata": {},
   "outputs": [
    {
     "output_type": "execute_result",
     "data": {
      "text/plain": [
       "        year dest               nombre_pais  sitc  \\\n",
       "0       1962  civ             Cote d'Ivoire  1210   \n",
       "1       1971  civ             Cote d'Ivoire  1210   \n",
       "2       1972  civ             Cote d'Ivoire  1210   \n",
       "3       1973  civ             Cote d'Ivoire  1210   \n",
       "4       1974  civ             Cote d'Ivoire  1210   \n",
       "...      ...  ...                       ...   ...   \n",
       "388059  1997  mnp  Northern Mariana Islands  6542   \n",
       "388060  1999  mnp  Northern Mariana Islands  6542   \n",
       "388061  2001  mnp  Northern Mariana Islands  6542   \n",
       "388062  2004  mnp  Northern Mariana Islands  7525   \n",
       "388063  1999  mnp  Northern Mariana Islands  6543   \n",
       "\n",
       "                                       product  export_val  \n",
       "0       Tobacco unmanufactured; tobacco refuse  12,000.000  \n",
       "1       Tobacco unmanufactured; tobacco refuse   9,000.000  \n",
       "2       Tobacco unmanufactured; tobacco refuse   7,000.000  \n",
       "3       Tobacco unmanufactured; tobacco refuse  22,000.000  \n",
       "4       Tobacco unmanufactured; tobacco refuse  29,000.000  \n",
       "...                                        ...         ...  \n",
       "388059    Woven Frabrics of More Than 85% Wool  55,770.000  \n",
       "388060    Woven Frabrics of More Than 85% Wool 216,156.000  \n",
       "388061    Woven Frabrics of More Than 85% Wool 240,122.000  \n",
       "388062                    Computer Peripherals   2,170.000  \n",
       "388063        Miscellaneous Wool Woven Fabrics  42,804.000  \n",
       "\n",
       "[388064 rows x 6 columns]"
      ],
      "text/html": "<div>\n<style scoped>\n    .dataframe tbody tr th:only-of-type {\n        vertical-align: middle;\n    }\n\n    .dataframe tbody tr th {\n        vertical-align: top;\n    }\n\n    .dataframe thead th {\n        text-align: right;\n    }\n</style>\n<table border=\"1\" class=\"dataframe\">\n  <thead>\n    <tr style=\"text-align: right;\">\n      <th></th>\n      <th>year</th>\n      <th>dest</th>\n      <th>nombre_pais</th>\n      <th>sitc</th>\n      <th>product</th>\n      <th>export_val</th>\n    </tr>\n  </thead>\n  <tbody>\n    <tr>\n      <th>0</th>\n      <td>1962</td>\n      <td>civ</td>\n      <td>Cote d'Ivoire</td>\n      <td>1210</td>\n      <td>Tobacco unmanufactured; tobacco refuse</td>\n      <td>12,000.000</td>\n    </tr>\n    <tr>\n      <th>1</th>\n      <td>1971</td>\n      <td>civ</td>\n      <td>Cote d'Ivoire</td>\n      <td>1210</td>\n      <td>Tobacco unmanufactured; tobacco refuse</td>\n      <td>9,000.000</td>\n    </tr>\n    <tr>\n      <th>2</th>\n      <td>1972</td>\n      <td>civ</td>\n      <td>Cote d'Ivoire</td>\n      <td>1210</td>\n      <td>Tobacco unmanufactured; tobacco refuse</td>\n      <td>7,000.000</td>\n    </tr>\n    <tr>\n      <th>3</th>\n      <td>1973</td>\n      <td>civ</td>\n      <td>Cote d'Ivoire</td>\n      <td>1210</td>\n      <td>Tobacco unmanufactured; tobacco refuse</td>\n      <td>22,000.000</td>\n    </tr>\n    <tr>\n      <th>4</th>\n      <td>1974</td>\n      <td>civ</td>\n      <td>Cote d'Ivoire</td>\n      <td>1210</td>\n      <td>Tobacco unmanufactured; tobacco refuse</td>\n      <td>29,000.000</td>\n    </tr>\n    <tr>\n      <th>...</th>\n      <td>...</td>\n      <td>...</td>\n      <td>...</td>\n      <td>...</td>\n      <td>...</td>\n      <td>...</td>\n    </tr>\n    <tr>\n      <th>388059</th>\n      <td>1997</td>\n      <td>mnp</td>\n      <td>Northern Mariana Islands</td>\n      <td>6542</td>\n      <td>Woven Frabrics of More Than 85% Wool</td>\n      <td>55,770.000</td>\n    </tr>\n    <tr>\n      <th>388060</th>\n      <td>1999</td>\n      <td>mnp</td>\n      <td>Northern Mariana Islands</td>\n      <td>6542</td>\n      <td>Woven Frabrics of More Than 85% Wool</td>\n      <td>216,156.000</td>\n    </tr>\n    <tr>\n      <th>388061</th>\n      <td>2001</td>\n      <td>mnp</td>\n      <td>Northern Mariana Islands</td>\n      <td>6542</td>\n      <td>Woven Frabrics of More Than 85% Wool</td>\n      <td>240,122.000</td>\n    </tr>\n    <tr>\n      <th>388062</th>\n      <td>2004</td>\n      <td>mnp</td>\n      <td>Northern Mariana Islands</td>\n      <td>7525</td>\n      <td>Computer Peripherals</td>\n      <td>2,170.000</td>\n    </tr>\n    <tr>\n      <th>388063</th>\n      <td>1999</td>\n      <td>mnp</td>\n      <td>Northern Mariana Islands</td>\n      <td>6543</td>\n      <td>Miscellaneous Wool Woven Fabrics</td>\n      <td>42,804.000</td>\n    </tr>\n  </tbody>\n</table>\n<p>388064 rows × 6 columns</p>\n</div>"
     },
     "metadata": {},
     "execution_count": 18
    }
   ],
   "source": [
    "# mergin de los dataframes:\n",
    "df=pd.merge(df_exports, df_sitc_prod, how='inner', on='sitc')\n",
    "df1=pd.merge(df, df_country_names, how='inner', on='pais')\n",
    "\n",
    "#renombro y elimino algunas columnas\n",
    "df1.rename(columns={'name_x':'product', 'name_y':'nombre_pais','pais':'dest'}, inplace=True)\n",
    "df_clean_exports=df1.drop(['id_x', 'id_y', 'origin'], axis=1)\n",
    "\n",
    "#reordeno las columnas\n",
    "df_clean_exports=df_clean_exports[['year', 'dest', 'nombre_pais', 'sitc','product','export_val']]\n",
    "\n",
    "df_clean_exports['year']=pd.to_datetime(df_clean_exports['year'], format=\"%Y\")\n",
    "df_clean_exports['year']=pd.DatetimeIndex(df_clean_exports['year']).year\n",
    "df_clean_exports"
   ]
  },
  {
   "cell_type": "code",
   "execution_count": 19,
   "metadata": {},
   "outputs": [
    {
     "output_type": "execute_result",
     "data": {
      "text/plain": [
       "        year origin               nombre_pais  sitc  \\\n",
       "0       1962    civ             Cote d'Ivoire   712   \n",
       "1       1963    civ             Cote d'Ivoire  2925   \n",
       "2       1964    civ             Cote d'Ivoire  2925   \n",
       "3       1965    civ             Cote d'Ivoire  2925   \n",
       "4       1966    civ             Cote d'Ivoire  2925   \n",
       "...      ...    ...                       ...   ...   \n",
       "559521  2003    mnp  Northern Mariana Islands  8451   \n",
       "559522  2006    mnp  Northern Mariana Islands  8451   \n",
       "559523  2007    mnp  Northern Mariana Islands  8433   \n",
       "559524  2006    mnp  Northern Mariana Islands  8434   \n",
       "559525  2002    mnp  Northern Mariana Islands  8424   \n",
       "\n",
       "                          product  import_val  \n",
       "0                 Coffee Extracts  13,000.000  \n",
       "1       Planting Seeds and Spores  16,000.000  \n",
       "2       Planting Seeds and Spores  26,000.000  \n",
       "3       Planting Seeds and Spores   2,000.000  \n",
       "4       Planting Seeds and Spores   2,000.000  \n",
       "...                           ...         ...  \n",
       "559521          Knitted Outerwear     137.000  \n",
       "559522          Knitted Outerwear   1,420.000  \n",
       "559523                    Dresses     846.000  \n",
       "559524                     Skirts     300.000  \n",
       "559525              Men's Jackets      34.000  \n",
       "\n",
       "[559526 rows x 6 columns]"
      ],
      "text/html": "<div>\n<style scoped>\n    .dataframe tbody tr th:only-of-type {\n        vertical-align: middle;\n    }\n\n    .dataframe tbody tr th {\n        vertical-align: top;\n    }\n\n    .dataframe thead th {\n        text-align: right;\n    }\n</style>\n<table border=\"1\" class=\"dataframe\">\n  <thead>\n    <tr style=\"text-align: right;\">\n      <th></th>\n      <th>year</th>\n      <th>origin</th>\n      <th>nombre_pais</th>\n      <th>sitc</th>\n      <th>product</th>\n      <th>import_val</th>\n    </tr>\n  </thead>\n  <tbody>\n    <tr>\n      <th>0</th>\n      <td>1962</td>\n      <td>civ</td>\n      <td>Cote d'Ivoire</td>\n      <td>712</td>\n      <td>Coffee Extracts</td>\n      <td>13,000.000</td>\n    </tr>\n    <tr>\n      <th>1</th>\n      <td>1963</td>\n      <td>civ</td>\n      <td>Cote d'Ivoire</td>\n      <td>2925</td>\n      <td>Planting Seeds and Spores</td>\n      <td>16,000.000</td>\n    </tr>\n    <tr>\n      <th>2</th>\n      <td>1964</td>\n      <td>civ</td>\n      <td>Cote d'Ivoire</td>\n      <td>2925</td>\n      <td>Planting Seeds and Spores</td>\n      <td>26,000.000</td>\n    </tr>\n    <tr>\n      <th>3</th>\n      <td>1965</td>\n      <td>civ</td>\n      <td>Cote d'Ivoire</td>\n      <td>2925</td>\n      <td>Planting Seeds and Spores</td>\n      <td>2,000.000</td>\n    </tr>\n    <tr>\n      <th>4</th>\n      <td>1966</td>\n      <td>civ</td>\n      <td>Cote d'Ivoire</td>\n      <td>2925</td>\n      <td>Planting Seeds and Spores</td>\n      <td>2,000.000</td>\n    </tr>\n    <tr>\n      <th>...</th>\n      <td>...</td>\n      <td>...</td>\n      <td>...</td>\n      <td>...</td>\n      <td>...</td>\n      <td>...</td>\n    </tr>\n    <tr>\n      <th>559521</th>\n      <td>2003</td>\n      <td>mnp</td>\n      <td>Northern Mariana Islands</td>\n      <td>8451</td>\n      <td>Knitted Outerwear</td>\n      <td>137.000</td>\n    </tr>\n    <tr>\n      <th>559522</th>\n      <td>2006</td>\n      <td>mnp</td>\n      <td>Northern Mariana Islands</td>\n      <td>8451</td>\n      <td>Knitted Outerwear</td>\n      <td>1,420.000</td>\n    </tr>\n    <tr>\n      <th>559523</th>\n      <td>2007</td>\n      <td>mnp</td>\n      <td>Northern Mariana Islands</td>\n      <td>8433</td>\n      <td>Dresses</td>\n      <td>846.000</td>\n    </tr>\n    <tr>\n      <th>559524</th>\n      <td>2006</td>\n      <td>mnp</td>\n      <td>Northern Mariana Islands</td>\n      <td>8434</td>\n      <td>Skirts</td>\n      <td>300.000</td>\n    </tr>\n    <tr>\n      <th>559525</th>\n      <td>2002</td>\n      <td>mnp</td>\n      <td>Northern Mariana Islands</td>\n      <td>8424</td>\n      <td>Men's Jackets</td>\n      <td>34.000</td>\n    </tr>\n  </tbody>\n</table>\n<p>559526 rows × 6 columns</p>\n</div>"
     },
     "metadata": {},
     "execution_count": 19
    }
   ],
   "source": [
    "#hago el mismo procedimientos para tener un datframe con los valores de importacion\n",
    "df_clean_imports=pd.merge(pd.merge(df_imports, df_sitc_prod, how='inner', on='sitc'), df_country_names, how='inner', on='pais')\n",
    "df_clean_imports.rename(columns={'name_x':'product', 'name_y':'nombre_pais', 'export_val':'import_val', 'pais':'origin'}, inplace=True)\n",
    "df_clean_imports=df_clean_imports.drop(['id_x', 'id_y'], axis=1)\n",
    "df_clean_imports=df_clean_imports[['year', 'origin', 'nombre_pais', 'sitc','product','import_val']]\n",
    "df_clean_imports"
   ]
  },
  {
   "source": [
    "\n",
    "¿Cuál es el top 10 países a los que Colombia exporta sus productos?:"
   ],
   "cell_type": "markdown",
   "metadata": {}
  },
  {
   "cell_type": "code",
   "execution_count": 20,
   "metadata": {},
   "outputs": [
    {
     "output_type": "execute_result",
     "data": {
      "text/plain": [
       "                       export_val\n",
       "nombre_pais                      \n",
       "United States 260,603,708,738.500\n",
       "World          73,055,836,595.000\n",
       "Venezuela      42,876,466,095.000\n",
       "Germany        29,901,242,862.000\n",
       "China          28,098,899,858.000\n",
       "Ecuador        27,910,876,776.500\n",
       "Netherlands    23,378,757,615.500\n",
       "Spain          22,173,799,276.000\n",
       "Peru           20,931,290,140.000\n",
       "Panama         19,772,563,462.000"
      ],
      "text/html": "<div>\n<style scoped>\n    .dataframe tbody tr th:only-of-type {\n        vertical-align: middle;\n    }\n\n    .dataframe tbody tr th {\n        vertical-align: top;\n    }\n\n    .dataframe thead th {\n        text-align: right;\n    }\n</style>\n<table border=\"1\" class=\"dataframe\">\n  <thead>\n    <tr style=\"text-align: right;\">\n      <th></th>\n      <th>export_val</th>\n    </tr>\n    <tr>\n      <th>nombre_pais</th>\n      <th></th>\n    </tr>\n  </thead>\n  <tbody>\n    <tr>\n      <th>United States</th>\n      <td>260,603,708,738.500</td>\n    </tr>\n    <tr>\n      <th>World</th>\n      <td>73,055,836,595.000</td>\n    </tr>\n    <tr>\n      <th>Venezuela</th>\n      <td>42,876,466,095.000</td>\n    </tr>\n    <tr>\n      <th>Germany</th>\n      <td>29,901,242,862.000</td>\n    </tr>\n    <tr>\n      <th>China</th>\n      <td>28,098,899,858.000</td>\n    </tr>\n    <tr>\n      <th>Ecuador</th>\n      <td>27,910,876,776.500</td>\n    </tr>\n    <tr>\n      <th>Netherlands</th>\n      <td>23,378,757,615.500</td>\n    </tr>\n    <tr>\n      <th>Spain</th>\n      <td>22,173,799,276.000</td>\n    </tr>\n    <tr>\n      <th>Peru</th>\n      <td>20,931,290,140.000</td>\n    </tr>\n    <tr>\n      <th>Panama</th>\n      <td>19,772,563,462.000</td>\n    </tr>\n  </tbody>\n</table>\n</div>"
     },
     "metadata": {},
     "execution_count": 20
    }
   ],
   "source": [
    "exp_countriestop10=df_clean_exports.groupby(['nombre_pais'])['export_val'].sum().to_frame().sort_values(by=['export_val'], ascending=False).head(10)\n",
    "exp_countriestop10"
   ]
  },
  {
   "cell_type": "code",
   "execution_count": null,
   "metadata": {},
   "outputs": [],
   "source": []
  }
 ]
}